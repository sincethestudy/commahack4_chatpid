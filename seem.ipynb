{
 "cells": [
  {
   "cell_type": "code",
   "execution_count": 7,
   "metadata": {},
   "outputs": [
    {
     "name": "stdout",
     "output_type": "stream",
     "text": [
      "Loaded as API: http://semantic-sam.xyzou.net:6090/ ✔\n"
     ]
    },
    {
     "ename": "TypeError",
     "evalue": "argument of type 'NoneType' is not iterable",
     "output_type": "error",
     "traceback": [
      "\u001b[0;31m---------------------------------------------------------------------------\u001b[0m",
      "\u001b[0;31mKeyError\u001b[0m                                  Traceback (most recent call last)",
      "File \u001b[0;32m~/.pyenv/versions/3.10.1/lib/python3.10/site-packages/gradio_client/client.py:836\u001b[0m, in \u001b[0;36mEndpoint.make_predict.<locals>._predict\u001b[0;34m(*data)\u001b[0m\n\u001b[1;32m    835\u001b[0m \u001b[39mtry\u001b[39;00m:\n\u001b[0;32m--> 836\u001b[0m     output \u001b[39m=\u001b[39m result[\u001b[39m\"\u001b[39;49m\u001b[39mdata\u001b[39;49m\u001b[39m\"\u001b[39;49m]\n\u001b[1;32m    837\u001b[0m \u001b[39mexcept\u001b[39;00m \u001b[39mKeyError\u001b[39;00m \u001b[39mas\u001b[39;00m ke:\n",
      "\u001b[0;31mKeyError\u001b[0m: 'data'",
      "\nDuring handling of the above exception, another exception occurred:\n",
      "\u001b[0;31mTypeError\u001b[0m                                 Traceback (most recent call last)",
      "Cell \u001b[0;32mIn[7], line 4\u001b[0m\n\u001b[1;32m      1\u001b[0m \u001b[39mfrom\u001b[39;00m \u001b[39mgradio_client\u001b[39;00m \u001b[39mimport\u001b[39;00m Client\n\u001b[1;32m      3\u001b[0m client \u001b[39m=\u001b[39m Client(\u001b[39m\"\u001b[39m\u001b[39mhttp://semantic-sam.xyzou.net:6090/\u001b[39m\u001b[39m\"\u001b[39m)\n\u001b[0;32m----> 4\u001b[0m result \u001b[39m=\u001b[39m client\u001b[39m.\u001b[39;49mpredict(\n\u001b[1;32m      5\u001b[0m     \u001b[39m\"\u001b[39;49m\u001b[39mcrossfar.png\u001b[39;49m\u001b[39m\"\u001b[39;49m,  \u001b[39m# str (filepath or URL to image)in '[Stroke] Draw on Image' Image component\u001b[39;49;00m\n\u001b[1;32m      6\u001b[0m     \u001b[39mNone\u001b[39;49;00m,  \u001b[39m# List[str] in 'Interative Mode' Checkboxgroup component\u001b[39;49;00m\n\u001b[1;32m      7\u001b[0m     \u001b[39mNone\u001b[39;49;00m,  \u001b[39m# str (filepath or URL to image)in '[Example] Draw on Referring Image' Image component\u001b[39;49;00m\n\u001b[1;32m      8\u001b[0m     \u001b[39m\"\u001b[39;49m\u001b[39mHowdy!\u001b[39;49m\u001b[39m\"\u001b[39;49m,  \u001b[39m# str in '[Text] Referring Text' Textbox component\u001b[39;49;00m\n\u001b[1;32m      9\u001b[0m     \u001b[39mNone\u001b[39;49;00m,  \u001b[39m# Dummy data for '[Audio] Referring Audio' Audio component\u001b[39;49;00m\n\u001b[1;32m     10\u001b[0m     \u001b[39mNone\u001b[39;49;00m,  \u001b[39m# Dummy data for '[Video] Referring Video Segmentation' Video component\u001b[39;49;00m\n\u001b[1;32m     11\u001b[0m     api_name\u001b[39m=\u001b[39;49m\u001b[39m\"\u001b[39;49m\u001b[39m/predict\u001b[39;49m\u001b[39m\"\u001b[39;49m\n\u001b[1;32m     12\u001b[0m )\n\u001b[1;32m     13\u001b[0m \u001b[39mprint\u001b[39m(result)\n",
      "File \u001b[0;32m~/.pyenv/versions/3.10.1/lib/python3.10/site-packages/gradio_client/client.py:291\u001b[0m, in \u001b[0;36mClient.predict\u001b[0;34m(self, api_name, fn_index, *args)\u001b[0m\n\u001b[1;32m    287\u001b[0m \u001b[39mif\u001b[39;00m \u001b[39mself\u001b[39m\u001b[39m.\u001b[39mendpoints[inferred_fn_index]\u001b[39m.\u001b[39mis_continuous:\n\u001b[1;32m    288\u001b[0m     \u001b[39mraise\u001b[39;00m \u001b[39mValueError\u001b[39;00m(\n\u001b[1;32m    289\u001b[0m         \u001b[39m\"\u001b[39m\u001b[39mCannot call predict on this function as it may run forever. Use submit instead.\u001b[39m\u001b[39m\"\u001b[39m\n\u001b[1;32m    290\u001b[0m     )\n\u001b[0;32m--> 291\u001b[0m \u001b[39mreturn\u001b[39;00m \u001b[39mself\u001b[39;49m\u001b[39m.\u001b[39;49msubmit(\u001b[39m*\u001b[39;49margs, api_name\u001b[39m=\u001b[39;49mapi_name, fn_index\u001b[39m=\u001b[39;49mfn_index)\u001b[39m.\u001b[39;49mresult()\n",
      "File \u001b[0;32m~/.pyenv/versions/3.10.1/lib/python3.10/site-packages/gradio_client/client.py:1125\u001b[0m, in \u001b[0;36mJob.result\u001b[0;34m(self, timeout)\u001b[0m\n\u001b[1;32m   1110\u001b[0m \u001b[39mdef\u001b[39;00m \u001b[39mresult\u001b[39m(\u001b[39mself\u001b[39m, timeout: \u001b[39mfloat\u001b[39m \u001b[39m|\u001b[39m \u001b[39mNone\u001b[39;00m \u001b[39m=\u001b[39m \u001b[39mNone\u001b[39;00m) \u001b[39m-\u001b[39m\u001b[39m>\u001b[39m Any:\n\u001b[1;32m   1111\u001b[0m \u001b[39m    \u001b[39m\u001b[39m\"\"\"\u001b[39;00m\n\u001b[1;32m   1112\u001b[0m \u001b[39m    Return the result of the call that the future represents. Raises CancelledError: If the future was cancelled, TimeoutError: If the future didn't finish executing before the given timeout, and Exception: If the call raised then that exception will be raised.\u001b[39;00m\n\u001b[1;32m   1113\u001b[0m \n\u001b[0;32m   (...)\u001b[0m\n\u001b[1;32m   1123\u001b[0m \u001b[39m        >> 9\u001b[39;00m\n\u001b[1;32m   1124\u001b[0m \u001b[39m    \"\"\"\u001b[39;00m\n\u001b[0;32m-> 1125\u001b[0m     \u001b[39mreturn\u001b[39;00m \u001b[39msuper\u001b[39;49m()\u001b[39m.\u001b[39;49mresult(timeout\u001b[39m=\u001b[39;49mtimeout)\n",
      "File \u001b[0;32m~/.pyenv/versions/3.10.1/lib/python3.10/concurrent/futures/_base.py:445\u001b[0m, in \u001b[0;36mFuture.result\u001b[0;34m(self, timeout)\u001b[0m\n\u001b[1;32m    443\u001b[0m     \u001b[39mraise\u001b[39;00m CancelledError()\n\u001b[1;32m    444\u001b[0m \u001b[39melif\u001b[39;00m \u001b[39mself\u001b[39m\u001b[39m.\u001b[39m_state \u001b[39m==\u001b[39m FINISHED:\n\u001b[0;32m--> 445\u001b[0m     \u001b[39mreturn\u001b[39;00m \u001b[39mself\u001b[39;49m\u001b[39m.\u001b[39;49m__get_result()\n\u001b[1;32m    446\u001b[0m \u001b[39melse\u001b[39;00m:\n\u001b[1;32m    447\u001b[0m     \u001b[39mraise\u001b[39;00m \u001b[39mTimeoutError\u001b[39;00m()\n",
      "File \u001b[0;32m~/.pyenv/versions/3.10.1/lib/python3.10/concurrent/futures/_base.py:390\u001b[0m, in \u001b[0;36mFuture.__get_result\u001b[0;34m(self)\u001b[0m\n\u001b[1;32m    388\u001b[0m \u001b[39mif\u001b[39;00m \u001b[39mself\u001b[39m\u001b[39m.\u001b[39m_exception:\n\u001b[1;32m    389\u001b[0m     \u001b[39mtry\u001b[39;00m:\n\u001b[0;32m--> 390\u001b[0m         \u001b[39mraise\u001b[39;00m \u001b[39mself\u001b[39m\u001b[39m.\u001b[39m_exception\n\u001b[1;32m    391\u001b[0m     \u001b[39mfinally\u001b[39;00m:\n\u001b[1;32m    392\u001b[0m         \u001b[39m# Break a reference cycle with the exception in self._exception\u001b[39;00m\n\u001b[1;32m    393\u001b[0m         \u001b[39mself\u001b[39m \u001b[39m=\u001b[39m \u001b[39mNone\u001b[39;00m\n",
      "File \u001b[0;32m~/.pyenv/versions/3.10.1/lib/python3.10/concurrent/futures/thread.py:58\u001b[0m, in \u001b[0;36m_WorkItem.run\u001b[0;34m(self)\u001b[0m\n\u001b[1;32m     55\u001b[0m     \u001b[39mreturn\u001b[39;00m\n\u001b[1;32m     57\u001b[0m \u001b[39mtry\u001b[39;00m:\n\u001b[0;32m---> 58\u001b[0m     result \u001b[39m=\u001b[39m \u001b[39mself\u001b[39;49m\u001b[39m.\u001b[39;49mfn(\u001b[39m*\u001b[39;49m\u001b[39mself\u001b[39;49m\u001b[39m.\u001b[39;49margs, \u001b[39m*\u001b[39;49m\u001b[39m*\u001b[39;49m\u001b[39mself\u001b[39;49m\u001b[39m.\u001b[39;49mkwargs)\n\u001b[1;32m     59\u001b[0m \u001b[39mexcept\u001b[39;00m \u001b[39mBaseException\u001b[39;00m \u001b[39mas\u001b[39;00m exc:\n\u001b[1;32m     60\u001b[0m     \u001b[39mself\u001b[39m\u001b[39m.\u001b[39mfuture\u001b[39m.\u001b[39mset_exception(exc)\n",
      "File \u001b[0;32m~/.pyenv/versions/3.10.1/lib/python3.10/site-packages/gradio_client/client.py:798\u001b[0m, in \u001b[0;36mEndpoint.make_end_to_end_fn.<locals>._inner\u001b[0;34m(*data)\u001b[0m\n\u001b[1;32m    796\u001b[0m \u001b[39mif\u001b[39;00m \u001b[39mself\u001b[39m\u001b[39m.\u001b[39mclient\u001b[39m.\u001b[39mserialize:\n\u001b[1;32m    797\u001b[0m     data \u001b[39m=\u001b[39m \u001b[39mself\u001b[39m\u001b[39m.\u001b[39mserialize(\u001b[39m*\u001b[39mdata)\n\u001b[0;32m--> 798\u001b[0m predictions \u001b[39m=\u001b[39m _predict(\u001b[39m*\u001b[39;49mdata)\n\u001b[1;32m    799\u001b[0m predictions \u001b[39m=\u001b[39m \u001b[39mself\u001b[39m\u001b[39m.\u001b[39mprocess_predictions(\u001b[39m*\u001b[39mpredictions)\n\u001b[1;32m    800\u001b[0m \u001b[39m# Append final output only if not already present\u001b[39;00m\n\u001b[1;32m    801\u001b[0m \u001b[39m# for consistency between generators and not generators\u001b[39;00m\n",
      "File \u001b[0;32m~/.pyenv/versions/3.10.1/lib/python3.10/site-packages/gradio_client/client.py:842\u001b[0m, in \u001b[0;36mEndpoint.make_predict.<locals>._predict\u001b[0;34m(*data)\u001b[0m\n\u001b[1;32m    837\u001b[0m \u001b[39mexcept\u001b[39;00m \u001b[39mKeyError\u001b[39;00m \u001b[39mas\u001b[39;00m ke:\n\u001b[1;32m    838\u001b[0m     is_public_space \u001b[39m=\u001b[39m (\n\u001b[1;32m    839\u001b[0m         \u001b[39mself\u001b[39m\u001b[39m.\u001b[39mclient\u001b[39m.\u001b[39mspace_id\n\u001b[1;32m    840\u001b[0m         \u001b[39mand\u001b[39;00m \u001b[39mnot\u001b[39;00m huggingface_hub\u001b[39m.\u001b[39mspace_info(\u001b[39mself\u001b[39m\u001b[39m.\u001b[39mclient\u001b[39m.\u001b[39mspace_id)\u001b[39m.\u001b[39mprivate\n\u001b[1;32m    841\u001b[0m     )\n\u001b[0;32m--> 842\u001b[0m     \u001b[39mif\u001b[39;00m \u001b[39m\"\u001b[39m\u001b[39merror\u001b[39m\u001b[39m\"\u001b[39m \u001b[39min\u001b[39;00m result \u001b[39mand\u001b[39;00m \u001b[39m\"\u001b[39;49m\u001b[39m429\u001b[39;49m\u001b[39m\"\u001b[39;49m \u001b[39min\u001b[39;49;00m result[\u001b[39m\"\u001b[39;49m\u001b[39merror\u001b[39;49m\u001b[39m\"\u001b[39;49m] \u001b[39mand\u001b[39;00m is_public_space:\n\u001b[1;32m    843\u001b[0m         \u001b[39mraise\u001b[39;00m utils\u001b[39m.\u001b[39mTooManyRequestsError(\n\u001b[1;32m    844\u001b[0m             \u001b[39mf\u001b[39m\u001b[39m\"\u001b[39m\u001b[39mToo many requests to the API, please try again later. To avoid being rate-limited, \u001b[39m\u001b[39m\"\u001b[39m\n\u001b[1;32m    845\u001b[0m             \u001b[39mf\u001b[39m\u001b[39m\"\u001b[39m\u001b[39mplease duplicate the Space using Client.duplicate(\u001b[39m\u001b[39m{\u001b[39;00m\u001b[39mself\u001b[39m\u001b[39m.\u001b[39mclient\u001b[39m.\u001b[39mspace_id\u001b[39m}\u001b[39;00m\u001b[39m) \u001b[39m\u001b[39m\"\u001b[39m\n\u001b[1;32m    846\u001b[0m             \u001b[39mf\u001b[39m\u001b[39m\"\u001b[39m\u001b[39mand pass in your Hugging Face token.\u001b[39m\u001b[39m\"\u001b[39m\n\u001b[1;32m    847\u001b[0m         ) \u001b[39mfrom\u001b[39;00m \u001b[39mNone\u001b[39m\n\u001b[1;32m    848\u001b[0m     \u001b[39melif\u001b[39;00m \u001b[39m\"\u001b[39m\u001b[39merror\u001b[39m\u001b[39m\"\u001b[39m \u001b[39min\u001b[39;00m result:\n",
      "\u001b[0;31mTypeError\u001b[0m: argument of type 'NoneType' is not iterable"
     ]
    }
   ],
   "source": [
    "from gradio_client import Client\n",
    "\n",
    "client = Client(\"http://semantic-sam.xyzou.net:6090/\")\n",
    "result = client.predict(\n",
    "    \"crossfar.png\",  # str (filepath or URL to image)in '[Stroke] Draw on Image' Image component\n",
    "    None,  # List[str] in 'Interative Mode' Checkboxgroup component\n",
    "    None,  # str (filepath or URL to image)in '[Example] Draw on Referring Image' Image component\n",
    "    \"Howdy!\",  # str in '[Text] Referring Text' Textbox component\n",
    "    None,  # Dummy data for '[Audio] Referring Audio' Audio component\n",
    "    None,  # Dummy data for '[Video] Referring Video Segmentation' Video component\n",
    "    api_name=\"/predict\"\n",
    ")\n",
    "print(result)"
   ]
  }
 ],
 "metadata": {
  "kernelspec": {
   "display_name": "Python 3",
   "language": "python",
   "name": "python3"
  },
  "language_info": {
   "codemirror_mode": {
    "name": "ipython",
    "version": 3
   },
   "file_extension": ".py",
   "mimetype": "text/x-python",
   "name": "python",
   "nbconvert_exporter": "python",
   "pygments_lexer": "ipython3",
   "version": "3.10.1"
  },
  "orig_nbformat": 4
 },
 "nbformat": 4,
 "nbformat_minor": 2
}
