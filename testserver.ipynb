{
 "cells": [
  {
   "cell_type": "code",
   "execution_count": 31,
   "metadata": {},
   "outputs": [
    {
     "name": "stdout",
     "output_type": "stream",
     "text": [
      "W\n"
     ]
    }
   ],
   "source": [
    "import requests\n",
    "import json\n",
    "import numpy as np\n",
    "from PIL import Image\n",
    "import base64\n",
    "from io import BytesIO\n",
    "\n",
    "# Define the URL of the server\n",
    "url = \"http://0.0.0.0:5001/process_image\"\n",
    "\n",
    "# Define the headers for the POST request\n",
    "headers = {\n",
    "    'Content-Type': 'application/json'\n",
    "}\n",
    "\n",
    "img = Image.open('./output_folder/frame_0.png')\n",
    "img_array = np.array(img)\n",
    "\n",
    "img_array = img_array.astype(np.uint8)\n",
    "img = Image.fromarray(img_array, 'RGB')  # Corrected method name\n",
    "\n",
    "# Convert the image to bytes\n",
    "buffered = BytesIO()\n",
    "img.save(buffered, format=\"PNG\")\n",
    "img_bytes = buffered.getvalue()\n",
    "\n",
    "# Encode the bytes to base64 string\n",
    "img_str = base64.b64encode(img_bytes).decode()\n",
    "\n",
    "# Define the data for the POST request\n",
    "data = {\n",
    "    'image': img_str  # Replace this with your actual image data\n",
    "}\n",
    "\n",
    "# Send the POST request\n",
    "response = requests.post(url, headers=headers, data=json.dumps(data))\n",
    "\n",
    "# Print the response\n",
    "print(response.json())"
   ]
  }
 ],
 "metadata": {
  "kernelspec": {
   "display_name": "Python 3",
   "language": "python",
   "name": "python3"
  },
  "language_info": {
   "codemirror_mode": {
    "name": "ipython",
    "version": 3
   },
   "file_extension": ".py",
   "mimetype": "text/x-python",
   "name": "python",
   "nbconvert_exporter": "python",
   "pygments_lexer": "ipython3",
   "version": "3.10.1"
  },
  "orig_nbformat": 4
 },
 "nbformat": 4,
 "nbformat_minor": 2
}
